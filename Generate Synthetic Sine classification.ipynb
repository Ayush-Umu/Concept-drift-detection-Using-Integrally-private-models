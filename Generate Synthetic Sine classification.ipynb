{
 "cells": [
  {
   "cell_type": "code",
   "execution_count": 12,
   "id": "38a99be4",
   "metadata": {},
   "outputs": [],
   "source": [
    "import numpy as np\n",
    "import pandas as pd"
   ]
  },
  {
   "cell_type": "code",
   "execution_count": 13,
   "id": "db6d0756",
   "metadata": {},
   "outputs": [],
   "source": [
    "x1 = np.random.uniform(0,1,200000)\n",
    "x2 = np.random.uniform(0,1,200000)\n",
    "\n",
    "# noise\n",
    "x3 = np.random.uniform(0,1,200000)\n",
    "x4 = np.random.uniform(0,1,200000)"
   ]
  },
  {
   "cell_type": "code",
   "execution_count": 14,
   "id": "df39f53e",
   "metadata": {},
   "outputs": [],
   "source": [
    "# Drift validation data\n",
    "x1[20000:30000]=np.random.uniform(-2,0,10000)\n",
    "#x2[2000:3000]=np.random.uniform(1,2,1000)\n",
    "#y[2000:3000]= np.where(x2[2000:3000] > np.sin(x1[2000:3000]), np.ones(1000, dtype=np.int8), np.zeros(1000, dtype=np.int8))\n",
    "\n",
    "# Drift 1\n",
    "x1[50000:75000]=np.random.uniform(0.5,2,25000)\n",
    "x2[50000:75000]=np.random.uniform(0.5,2,25000)\n",
    "#y[5000:7500]= np.where(x2[5000:7500] > np.sin(x1[5000:7500]), np.ones(2500, dtype=np.int8), np.zeros(2500, dtype=np.int8))\n",
    "\n",
    "#Drift 2\n",
    "x3[100000:125000]=np.random.uniform(1,2,25000)\n",
    "x4[100000:125000]=np.random.uniform(1,2,25000)\n",
    "\n",
    "#Drift 3\n",
    "x1[150000:175000]=np.random.uniform(-3,0.5,25000)\n",
    "x2[150000:175000]=np.random.uniform(-3,0.5,25000)\n",
    "#y[15000:17500]= np.where(x2[15000:17500] > np.sin(x1[15000:17500]), np.ones(2500, dtype=np.int8), np.zeros(2500, dtype=np.int8))\n",
    "\n",
    "y= np.where(x2 > np.sin(x1), np.ones(200000, dtype=np.int8), np.zeros(200000, dtype=np.int8))"
   ]
  },
  {
   "cell_type": "code",
   "execution_count": 15,
   "id": "cf4e7b5b",
   "metadata": {},
   "outputs": [
    {
     "data": {
      "text/html": [
       "<div>\n",
       "<style scoped>\n",
       "    .dataframe tbody tr th:only-of-type {\n",
       "        vertical-align: middle;\n",
       "    }\n",
       "\n",
       "    .dataframe tbody tr th {\n",
       "        vertical-align: top;\n",
       "    }\n",
       "\n",
       "    .dataframe thead th {\n",
       "        text-align: right;\n",
       "    }\n",
       "</style>\n",
       "<table border=\"1\" class=\"dataframe\">\n",
       "  <thead>\n",
       "    <tr style=\"text-align: right;\">\n",
       "      <th></th>\n",
       "      <th>x1</th>\n",
       "      <th>x2</th>\n",
       "      <th>x3</th>\n",
       "      <th>x4</th>\n",
       "      <th>y</th>\n",
       "    </tr>\n",
       "  </thead>\n",
       "  <tbody>\n",
       "    <tr>\n",
       "      <th>0</th>\n",
       "      <td>0.900395</td>\n",
       "      <td>0.284435</td>\n",
       "      <td>0.308094</td>\n",
       "      <td>0.242561</td>\n",
       "      <td>0</td>\n",
       "    </tr>\n",
       "    <tr>\n",
       "      <th>1</th>\n",
       "      <td>0.078758</td>\n",
       "      <td>0.030236</td>\n",
       "      <td>0.047542</td>\n",
       "      <td>0.638051</td>\n",
       "      <td>0</td>\n",
       "    </tr>\n",
       "    <tr>\n",
       "      <th>2</th>\n",
       "      <td>0.954808</td>\n",
       "      <td>0.348666</td>\n",
       "      <td>0.934022</td>\n",
       "      <td>0.770769</td>\n",
       "      <td>0</td>\n",
       "    </tr>\n",
       "    <tr>\n",
       "      <th>3</th>\n",
       "      <td>0.462751</td>\n",
       "      <td>0.012494</td>\n",
       "      <td>0.782287</td>\n",
       "      <td>0.705243</td>\n",
       "      <td>0</td>\n",
       "    </tr>\n",
       "    <tr>\n",
       "      <th>4</th>\n",
       "      <td>0.692544</td>\n",
       "      <td>0.322162</td>\n",
       "      <td>0.614659</td>\n",
       "      <td>0.670095</td>\n",
       "      <td>0</td>\n",
       "    </tr>\n",
       "    <tr>\n",
       "      <th>...</th>\n",
       "      <td>...</td>\n",
       "      <td>...</td>\n",
       "      <td>...</td>\n",
       "      <td>...</td>\n",
       "      <td>...</td>\n",
       "    </tr>\n",
       "    <tr>\n",
       "      <th>199995</th>\n",
       "      <td>0.116592</td>\n",
       "      <td>0.006434</td>\n",
       "      <td>0.165212</td>\n",
       "      <td>0.108104</td>\n",
       "      <td>0</td>\n",
       "    </tr>\n",
       "    <tr>\n",
       "      <th>199996</th>\n",
       "      <td>0.990358</td>\n",
       "      <td>0.957297</td>\n",
       "      <td>0.967223</td>\n",
       "      <td>0.429373</td>\n",
       "      <td>1</td>\n",
       "    </tr>\n",
       "    <tr>\n",
       "      <th>199997</th>\n",
       "      <td>0.899238</td>\n",
       "      <td>0.109362</td>\n",
       "      <td>0.230119</td>\n",
       "      <td>0.776261</td>\n",
       "      <td>0</td>\n",
       "    </tr>\n",
       "    <tr>\n",
       "      <th>199998</th>\n",
       "      <td>0.253189</td>\n",
       "      <td>0.706588</td>\n",
       "      <td>0.161122</td>\n",
       "      <td>0.764296</td>\n",
       "      <td>1</td>\n",
       "    </tr>\n",
       "    <tr>\n",
       "      <th>199999</th>\n",
       "      <td>0.952232</td>\n",
       "      <td>0.723010</td>\n",
       "      <td>0.985299</td>\n",
       "      <td>0.945985</td>\n",
       "      <td>0</td>\n",
       "    </tr>\n",
       "  </tbody>\n",
       "</table>\n",
       "<p>200000 rows × 5 columns</p>\n",
       "</div>"
      ],
      "text/plain": [
       "              x1        x2        x3        x4  y\n",
       "0       0.900395  0.284435  0.308094  0.242561  0\n",
       "1       0.078758  0.030236  0.047542  0.638051  0\n",
       "2       0.954808  0.348666  0.934022  0.770769  0\n",
       "3       0.462751  0.012494  0.782287  0.705243  0\n",
       "4       0.692544  0.322162  0.614659  0.670095  0\n",
       "...          ...       ...       ...       ... ..\n",
       "199995  0.116592  0.006434  0.165212  0.108104  0\n",
       "199996  0.990358  0.957297  0.967223  0.429373  1\n",
       "199997  0.899238  0.109362  0.230119  0.776261  0\n",
       "199998  0.253189  0.706588  0.161122  0.764296  1\n",
       "199999  0.952232  0.723010  0.985299  0.945985  0\n",
       "\n",
       "[200000 rows x 5 columns]"
      ]
     },
     "execution_count": 15,
     "metadata": {},
     "output_type": "execute_result"
    }
   ],
   "source": [
    "data = pd.DataFrame([x1,x2,x3,x4,y]).transpose()\n",
    "data.columns = ['x1','x2','x3','x4', 'y']\n",
    "data['y'] = data['y'].astype('int32')\n",
    "data"
   ]
  },
  {
   "cell_type": "code",
   "execution_count": 16,
   "id": "5c901406",
   "metadata": {},
   "outputs": [],
   "source": [
    "data.to_csv('sin_classification_large_drift.csv', index=False)"
   ]
  },
  {
   "cell_type": "code",
   "execution_count": 17,
   "id": "b62bf5fb",
   "metadata": {},
   "outputs": [
    {
     "data": {
      "text/plain": [
       "[<matplotlib.lines.Line2D at 0x7fdd59795ad0>]"
      ]
     },
     "execution_count": 17,
     "metadata": {},
     "output_type": "execute_result"
    },
    {
     "data": {
      "image/png": "[encoded data removed]",
      "text/plain": [
       "<Figure size 640x480 with 1 Axes>"
      ]
     },
     "metadata": {},
     "output_type": "display_data"
    }
   ],
   "source": [
    "import matplotlib.pyplot as plt\n",
    "plt.plot(data['y'].rolling(window=10000).mean())"
   ]
  },
  {
   "cell_type": "code",
   "execution_count": null,
   "id": "9d43656e",
   "metadata": {},
   "outputs": [],
   "source": []
  }
 ],
 "metadata": {
  "kernelspec": {
   "display_name": "Python 3 (ipykernel)",
   "language": "python",
   "name": "python3"
  },
  "language_info": {
   "codemirror_mode": {
    "name": "ipython",
    "version": 3
   },
   "file_extension": ".py",
   "mimetype": "text/x-python",
   "name": "python",
   "nbconvert_exporter": "python",
   "pygments_lexer": "ipython3",
   "version": "3.7.12"
  }
 },
 "nbformat": 4,
 "nbformat_minor": 5
}
